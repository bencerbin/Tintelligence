{
 "cells": [
  {
   "cell_type": "code",
   "execution_count": 4,
   "id": "a8b6c934-7755-4f4d-8048-75079a75bff6",
   "metadata": {},
   "outputs": [],
   "source": [
    "import torch\n",
    "import torch.nn as nn\n",
    "import torch.optim as optim\n",
    "import torchvision\n",
    "import torchvision.transforms as transforms\n",
    "from torchvision.datasets import ImageFolder\n",
    "from torch.utils.data import DataLoader, random_split\n",
    "\n",
    "import matplotlib.pyplot as plt\n",
    "import numpy as np\n",
    "from PIL import Image\n",
    "import os\n"
   ]
  },
  {
   "cell_type": "raw",
   "id": "22986405-ddc8-4d98-b6b6-4f2f79a2f6ba",
   "metadata": {},
   "source": [
    "To Do:\n",
    "- Get black and white data (that is paired with colored images)\n",
    "    - Download tiny imagenet\n",
    "    - create turn them black and white\n",
    "- Separate data into training, validation, and test sets.\n",
    "- Build CNN\n",
    "- Train CNN\n",
    "- Evaluate CNN\n",
    "- Tune parameters"
   ]
  },
  {
   "cell_type": "markdown",
   "id": "26006abd-0f5f-4407-92ae-222a6eb4bd46",
   "metadata": {},
   "source": [
    "**Data**"
   ]
  },
  {
   "cell_type": "code",
   "execution_count": 1,
   "id": "ed114c52-cc14-4802-9afa-765af71294d9",
   "metadata": {},
   "outputs": [
    {
     "name": "stdout",
     "output_type": "stream",
     "text": [
      "Downloading Tiny ImageNet...\n",
      "Download complete.\n",
      "Extracting zip file...\n",
      "Extraction complete.\n"
     ]
    }
   ],
   "source": [
    "# Download download Tiny ImageNet directly into your Jupyter Notebook\n",
    "\n",
    "import os\n",
    "import requests\n",
    "import zipfile\n",
    "\n",
    "# set directory and download URL\n",
    "url = \"http://cs231n.stanford.edu/tiny-imagenet-200.zip\"\n",
    "output_dir = \"tiny-imagenet-200\"\n",
    "zip_filename = \"tiny-imagenet-200.zip\"\n",
    "\n",
    "# download zip file if it doesn't exist\n",
    "if not os.path.exists(zip_filename):\n",
    "    print(\"Downloading Tiny ImageNet...\")\n",
    "    r = requests.get(url, stream=True)\n",
    "    with open(zip_filename, 'wb') as f:\n",
    "        for chunk in r.iter_content(chunk_size=1024):\n",
    "            if chunk:\n",
    "                f.write(chunk)\n",
    "    print(\"Download complete.\")\n",
    "\n",
    "# unzip if not already extracted\n",
    "if not os.path.exists(output_dir):\n",
    "    print(\"Extracting zip file...\")\n",
    "    with zipfile.ZipFile(zip_filename, 'r') as zip_ref:\n",
    "        zip_ref.extractall()\n",
    "    print(\"Extraction complete.\")\n",
    "else:\n",
    "    print(\"Already extracted.\")\n",
    "\n"
   ]
  },
  {
   "cell_type": "code",
   "execution_count": 9,
   "id": "3fa615a3-298e-401b-b471-b0dc07381cc1",
   "metadata": {},
   "outputs": [],
   "source": [
    "# Create B&W dataset\n",
    "\n",
    "def convert_to_grayscale(input_folder, grayscale_output_folder):\n",
    "    os.makedirs(grayscale_output_folder, exist_ok=True)\n",
    "    for filename in os.listdir(input_folder):\n",
    "        if filename.endswith(('.jpg', '.png')):\n",
    "            img = Image.open(os.path.join(input_folder, filename)).convert('RGB')\n",
    "            gray = img.convert('L')  # 'L' mode = grayscale\n",
    "            gray.save(os.path.join(grayscale_output_folder, filename))"
   ]
  },
  {
   "cell_type": "code",
   "execution_count": 16,
   "id": "ea4ccf69-c57b-43d1-9e1a-3025cd473a83",
   "metadata": {},
   "outputs": [
    {
     "data": {
      "image/png": "[encoded data removed]",
      "text/plain": [
       "<Figure size 800x400 with 2 Axes>"
      ]
     },
     "metadata": {},
     "output_type": "display_data"
    }
   ],
   "source": [
    "# Choose a sample image from Tiny ImageNet\n",
    "sample_img_path = os.path.join(\"tiny-imagenet-200\", \"train\", \"n01443537\", \"images\")\n",
    "sample_img = os.listdir(sample_img_path)[0]\n",
    "full_img_path = os.path.join(sample_img_path, sample_img)\n",
    "\n",
    "# Load images\n",
    "img_color = Image.open(full_img_path).convert('RGB')\n",
    "img_gray = img_color.convert('L')\n",
    "\n",
    "# Plot side by side\n",
    "fig, axs = plt.subplots(1, 2, figsize=(8, 4))\n",
    "\n",
    "axs[0].imshow(img_color)\n",
    "axs[0].set_title(\"Original Color\")\n",
    "axs[0].axis('off')\n",
    "\n",
    "axs[1].imshow(img_gray, cmap='gray')\n",
    "axs[1].set_title(\"Grayscale Version\")\n",
    "axs[1].axis('off')\n",
    "\n",
    "plt.tight_layout()\n",
    "plt.show()\n"
   ]
  },
  {
   "cell_type": "markdown",
   "id": "0da9b534-d391-4eb2-b103-d75bb2d566bd",
   "metadata": {},
   "source": [
    "*Save grayscale versions of the Tiny ImageNet training images, saved in a parallel folder structure alongside the originals so you can feed them into your CNN as input while the color versions serve as targets*"
   ]
  },
  {
   "cell_type": "code",
   "execution_count": 19,
   "id": "47833676-a24a-4e64-8512-aae9a7af8727",
   "metadata": {},
   "outputs": [
    {
     "name": "stdout",
     "output_type": "stream",
     "text": [
      "grayscale copies created.\n"
     ]
    }
   ],
   "source": [
    "#CONTINUE HERE!\n",
    "# Paths\n",
    "original_base = \"tiny-imagenet-200/train\"\n",
    "grayscale_base = \"tiny-imagenet-200-grayscale/train\"\n",
    "\n",
    "# Create root grayscale directory\n",
    "os.makedirs(grayscale_base, exist_ok=True)\n",
    "\n",
    "# Loop through all classes\n",
    "for class_name in os.listdir(original_base):\n",
    "    class_path = os.path.join(original_base, class_name, \"images\")\n",
    "    if not os.path.isdir(class_path):\n",
    "        continue\n",
    "\n",
    "    # Create corresponding grayscale folder\n",
    "    gray_class_path = os.path.join(grayscale_base, class_name, \"images\")\n",
    "    os.makedirs(gray_class_path, exist_ok=True)\n",
    "\n",
    "    # Convert and save each image\n",
    "    for img_name in os.listdir(class_path):\n",
    "        orig_img_path = os.path.join(class_path, img_name)\n",
    "        gray_img_path = os.path.join(gray_class_path, img_name)\n",
    "\n",
    "        try:\n",
    "            img = Image.open(orig_img_path).convert('L')  # grayscale\n",
    "            img.save(gray_img_path)\n",
    "        except Exception as e:\n",
    "            print(f\"Error processing {img_name}: {e}\")\n",
    "\n",
    "print(\"grayscale copies created.\")\n"
   ]
  },
  {
   "cell_type": "code",
   "execution_count": null,
   "id": "f825e457-1a9f-4f72-a112-7ac643ab4690",
   "metadata": {},
   "outputs": [],
   "source": []
  },
  {
   "cell_type": "code",
   "execution_count": null,
   "id": "78788cf6-d153-453e-a235-81e2b3024e45",
   "metadata": {},
   "outputs": [],
   "source": []
  }
 ],
 "metadata": {
  "kernelspec": {
   "display_name": "Python3 (cs152)",
   "language": "python",
   "name": "cs152"
  },
  "language_info": {
   "codemirror_mode": {
    "name": "ipython",
    "version": 3
   },
   "file_extension": ".py",
   "mimetype": "text/x-python",
   "name": "python",
   "nbconvert_exporter": "python",
   "pygments_lexer": "ipython3",
   "version": "3.12.9"
  }
 },
 "nbformat": 4,
 "nbformat_minor": 5
}
